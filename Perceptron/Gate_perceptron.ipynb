{
  "nbformat": 4,
  "nbformat_minor": 0,
  "metadata": {
    "colab": {
      "provenance": []
    },
    "kernelspec": {
      "name": "python3",
      "display_name": "Python 3"
    },
    "language_info": {
      "name": "python"
    }
  },
  "cells": [
    {
      "cell_type": "code",
      "execution_count": 1,
      "metadata": {
        "id": "JOdqrPa0OSqs"
      },
      "outputs": [],
      "source": [
        "import numpy as np\n"
      ]
    },
    {
      "cell_type": "code",
      "source": [
        "def unit_step(v):\n",
        "\t\"\"\" Heavyside Step function. v must be a scalar \"\"\"\n",
        "\tif v >= 0:\n",
        "\t\treturn 1\n",
        "\telse:\n",
        "\t\treturn 0\n",
        "\t\n",
        "def perceptron(x, w, b):\n",
        "\n",
        "  v = np.dot(w, x) + b\n",
        "  y = unit_step(v)\n",
        "  return y\n",
        "\n",
        "def NOT_percep(x):\n",
        "\treturn perceptron(x, w=-1, b=0.5)\n",
        "\n",
        "print(\"NOT(0) = {}\".format(NOT_percep(0)))\n",
        "print(\"NOT(1) = {}\".format(NOT_percep(1)))"
      ],
      "metadata": {
        "colab": {
          "base_uri": "https://localhost:8080/"
        },
        "id": "FWA7snJdOdFP",
        "outputId": "d59e5f7c-f454-4f2e-f76e-93af589f5295"
      },
      "execution_count": 3,
      "outputs": [
        {
          "output_type": "stream",
          "name": "stdout",
          "text": [
            "NOT(0) = 1\n",
            "NOT(1) = 0\n"
          ]
        }
      ]
    },
    {
      "cell_type": "code",
      "source": [
        "def AND_percep(x):\n",
        "    w = np.array([1, 1])\n",
        "    b = -1.5\n",
        "    return perceptron(x, w, b)\n",
        "\n",
        "# Test\n",
        "example1 = np.array([1, 1])\n",
        "example2 = np.array([1, 0])\n",
        "example3 = np.array([0, 1])\n",
        "example4 = np.array([0, 0])\n",
        "\n",
        "print(\"AND({}, {}) = {}\".format(1, 1, AND_percep(example1)))\n",
        "print(\"AND({}, {}) = {}\".format(1, 0, AND_percep(example2)))\n",
        "print(\"AND({}, {}) = {}\".format(0, 1, AND_percep(example3)))\n",
        "print(\"AND({}, {}) = {}\".format(0, 0, AND_percep(example4)))"
      ],
      "metadata": {
        "colab": {
          "base_uri": "https://localhost:8080/"
        },
        "id": "VOQKkwEOOdNp",
        "outputId": "122772d9-fe2c-4936-d8a3-97bdcbb7367c"
      },
      "execution_count": 4,
      "outputs": [
        {
          "output_type": "stream",
          "name": "stdout",
          "text": [
            "AND(1, 1) = 1\n",
            "AND(1, 0) = 0\n",
            "AND(0, 1) = 0\n",
            "AND(0, 0) = 0\n"
          ]
        }
      ]
    },
    {
      "cell_type": "code",
      "source": [
        "def OR_percep(x):\n",
        "    w = np.array([1, 1])\n",
        "    b = -0.5\n",
        "    return perceptron(x, w, b)\n",
        "\n",
        "# Test\n",
        "example1 = np.array([1, 1])\n",
        "example2 = np.array([1, 0])\n",
        "example3 = np.array([0, 1])\n",
        "example4 = np.array([0, 0])\n",
        "\n",
        "print(\"OR({}, {}) = {}\".format(1, 1, OR_percep(example1)))\n",
        "print(\"OR({}, {}) = {}\".format(1, 0, OR_percep(example2)))\n",
        "print(\"OR({}, {}) = {}\".format(0, 1, OR_percep(example3)))\n",
        "print(\"OR({}, {}) = {}\".format(0, 0, OR_percep(example4)))"
      ],
      "metadata": {
        "colab": {
          "base_uri": "https://localhost:8080/"
        },
        "id": "Nbd_081pOdQu",
        "outputId": "8c7be4c3-119d-4be5-ad62-9429638f636b"
      },
      "execution_count": 5,
      "outputs": [
        {
          "output_type": "stream",
          "name": "stdout",
          "text": [
            "OR(1, 1) = 1\n",
            "OR(1, 0) = 1\n",
            "OR(0, 1) = 1\n",
            "OR(0, 0) = 0\n"
          ]
        }
      ]
    },
    {
      "cell_type": "code",
      "source": [
        "def XOR_net(x):\n",
        "    gate_1 = AND_percep(x)\n",
        "    gate_2 = NOT_percep(gate_1)\n",
        "    gate_3 = OR_percep(x)\n",
        "    new_x = np.array([gate_2, gate_3])\n",
        "    output = AND_percep(new_x)\n",
        "    return output\n",
        "\n",
        "print(\"XOR({}, {}) = {}\".format(1, 1, XOR_net(example1)))\n",
        "print(\"XOR({}, {}) = {}\".format(1, 0, XOR_net(example2)))\n",
        "print(\"XOR({}, {}) = {}\".format(0, 1, XOR_net(example3)))\n",
        "print(\"XOR({}, {}) = {}\".format(0, 0, XOR_net(example4)))"
      ],
      "metadata": {
        "colab": {
          "base_uri": "https://localhost:8080/"
        },
        "id": "7POixpHdOdUl",
        "outputId": "64015e9b-876d-4d99-d264-4e49568c490a"
      },
      "execution_count": 6,
      "outputs": [
        {
          "output_type": "stream",
          "name": "stdout",
          "text": [
            "XOR(1, 1) = 0\n",
            "XOR(1, 0) = 1\n",
            "XOR(0, 1) = 1\n",
            "XOR(0, 0) = 0\n"
          ]
        }
      ]
    }
  ]
}